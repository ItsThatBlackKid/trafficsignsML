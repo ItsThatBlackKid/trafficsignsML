{
 "cells": [
  {
   "cell_type": "markdown",
   "source": [
    "# Traffic Signs Classification\n",
    "**Sao Kanneh S3788996**"
   ],
   "metadata": {
    "collapsed": false
   }
  },
  {
   "cell_type": "code",
   "execution_count": 6,
   "outputs": [],
   "source": [
    "import matplotlib.pyplot as plt\n",
    "import matplotlib.image as mpimg\n",
    "import pandas as pd\n",
    "from PIL import Image\n",
    "import os\n",
    "from glob import glob\n",
    "import re"
   ],
   "metadata": {
    "collapsed": false,
    "pycharm": {
     "name": "#%%\n"
    }
   }
  },
  {
   "cell_type": "code",
   "execution_count": 2,
   "metadata": {
    "collapsed": true
   },
   "outputs": [],
   "source": [
    "# variables for training and testing path\n",
    "datasetPath = 'datasets'\n",
    "trainPath = os.path.join(datasetPath, 'train')\n",
    "testPath = os.path.join(datasetPath, 'test')\n",
    "shapes = ['diamond', 'hex', 'round', 'square', 'triangle']"
   ]
  },
  {
   "cell_type": "markdown",
   "source": [
    "Here I'm setting up a helper function to build a dataframe from paths. Because the training data is formatted in directories like so: <shape>/<type>"
   ],
   "metadata": {
    "collapsed": false
   }
  },
  {
   "cell_type": "code",
   "execution_count": 3,
   "outputs": [],
   "source": [
    "# creates dataframe using the provided path. returns the DataFrame with cos [path, shape, type]\n",
    "def createTrainDfFromPath():\n",
    "    print(f'trainPath: {trainPath}')\n",
    "    train_signs_dict = {\n",
    "        'path': [],\n",
    "        'shape': [],\n",
    "        'type': []\n",
    "    }\n",
    "    columns = ['path', 'shape', 'type']\n",
    "    # loop through each shape, extract the relevant columns from their images\n",
    "    for shape in shapes:\n",
    "        shape_path = os.path.join(trainPath, f'{shape}/')\n",
    "        print(f'adding images from {shape_path} to df')\n",
    "\n",
    "        for imgPath in glob(f'{shape_path}/**/*.png', recursive=True):\n",
    "            # use regex to get a list of directories in this path\n",
    "            dir_list = re.findall('([a-zA-Z]+)', imgPath)\n",
    "            # the sign-type is in the 3rd index\n",
    "            sign_type = dir_list[3]\n",
    "            train_signs_dict['path'].append(imgPath)\n",
    "            train_signs_dict['shape'].append(shape)\n",
    "            train_signs_dict['type'].append(sign_type)\n",
    "        print(f'{shape} added')\n",
    "\n",
    "    return pd.DataFrame(train_signs_dict, columns=columns)"
   ],
   "metadata": {
    "collapsed": false,
    "pycharm": {
     "name": "#%%\n"
    }
   }
  },
  {
   "cell_type": "markdown",
   "source": [
    "## EDA\n",
    "In this section I will be exploring the images provided in the \"train\" subdirectory.\n",
    "\n",
    "Before I can explore them though, I would like an easy way to manage their paths. the best way to do this is to add all image paths to a pandas DataFrame"
   ],
   "metadata": {
    "collapsed": false,
    "pycharm": {
     "name": "#%% md\n"
    }
   }
  },
  {
   "cell_type": "code",
   "execution_count": 8,
   "outputs": [
    {
     "name": "stdout",
     "output_type": "stream",
     "text": [
      "trainPath: datasets/train\n",
      "adding images from datasets/train/diamond/ to df\n",
      "diamond added\n",
      "adding images from datasets/train/hex/ to df\n",
      "hex added\n",
      "adding images from datasets/train/round/ to df\n",
      "round added\n",
      "adding images from datasets/train/square/ to df\n",
      "square added\n"
     ]
    }
   ],
   "source": [
    "trafficSignsDf = createTrainDfFromPath()"
   ],
   "metadata": {
    "collapsed": false,
    "pycharm": {
     "name": "#%%\n"
    }
   }
  },
  {
   "cell_type": "code",
   "execution_count": 9,
   "outputs": [
    {
     "data": {
      "text/plain": "                                                path    shape        type\n0  datasets/train/diamond/rightofway/00039_00001.png  diamond  rightofway\n1  datasets/train/diamond/rightofway/01803_00002.png  diamond  rightofway\n2  datasets/train/diamond/rightofway/01702_00000.png  diamond  rightofway\n3  datasets/train/diamond/rightofway/00111_00001.png  diamond  rightofway\n4  datasets/train/diamond/rightofway/01231_00003.png  diamond  rightofway",
      "text/html": "<div>\n<style scoped>\n    .dataframe tbody tr th:only-of-type {\n        vertical-align: middle;\n    }\n\n    .dataframe tbody tr th {\n        vertical-align: top;\n    }\n\n    .dataframe thead th {\n        text-align: right;\n    }\n</style>\n<table border=\"1\" class=\"dataframe\">\n  <thead>\n    <tr style=\"text-align: right;\">\n      <th></th>\n      <th>path</th>\n      <th>shape</th>\n      <th>type</th>\n    </tr>\n  </thead>\n  <tbody>\n    <tr>\n      <td>0</td>\n      <td>datasets/train/diamond/rightofway/00039_00001.png</td>\n      <td>diamond</td>\n      <td>rightofway</td>\n    </tr>\n    <tr>\n      <td>1</td>\n      <td>datasets/train/diamond/rightofway/01803_00002.png</td>\n      <td>diamond</td>\n      <td>rightofway</td>\n    </tr>\n    <tr>\n      <td>2</td>\n      <td>datasets/train/diamond/rightofway/01702_00000.png</td>\n      <td>diamond</td>\n      <td>rightofway</td>\n    </tr>\n    <tr>\n      <td>3</td>\n      <td>datasets/train/diamond/rightofway/00111_00001.png</td>\n      <td>diamond</td>\n      <td>rightofway</td>\n    </tr>\n    <tr>\n      <td>4</td>\n      <td>datasets/train/diamond/rightofway/01231_00003.png</td>\n      <td>diamond</td>\n      <td>rightofway</td>\n    </tr>\n  </tbody>\n</table>\n</div>"
     },
     "execution_count": 9,
     "metadata": {},
     "output_type": "execute_result"
    }
   ],
   "source": [
    "trafficSignsDf.head()"
   ],
   "metadata": {
    "collapsed": false,
    "pycharm": {
     "name": "#%%\n"
    }
   }
  },
  {
   "cell_type": "markdown",
   "source": [
    "With the DF built, we can start looking at some of the images. We'll use PIL initially to display the images"
   ],
   "metadata": {
    "collapsed": false
   }
  },
  {
   "cell_type": "code",
   "execution_count": 10,
   "outputs": [
    {
     "data": {
      "text/plain": "<PIL.PngImagePlugin.PngImageFile image mode=L size=28x28 at 0x7FAFB6A69350>",
      "image/png": "[encoded data removed]"
     },
     "metadata": {},
     "output_type": "display_data"
    }
   ],
   "source": [
    "pilIm = Image.open(trafficSignsDf['path'].iloc[0])\n",
    "display(pilIm)"
   ],
   "metadata": {
    "collapsed": false,
    "pycharm": {
     "name": "#%%\n"
    }
   }
  },
  {
   "cell_type": "markdown",
   "source": [
    "PIL seems to display them in a very small format, matplotlib may work best instead:"
   ],
   "metadata": {
    "collapsed": false
   }
  },
  {
   "cell_type": "code",
   "execution_count": 13,
   "outputs": [
    {
     "data": {
      "text/plain": "<Figure size 432x288 with 1 Axes>",
      "image/png": "[encoded data removed]"
     },
     "metadata": {
      "needs_background": "light"
     },
     "output_type": "display_data"
    }
   ],
   "source": [
    "img = mpimg.imread(trafficSignsDf['path'].iloc[0])\n",
    "imgplot = plt.imshow(img, cmap=\"gray\")\n",
    "plt.show()"
   ],
   "metadata": {
    "collapsed": false,
    "pycharm": {
     "name": "#%%\n"
    }
   }
  },
  {
   "cell_type": "markdown",
   "source": [
    "As suspected, matplotlib gives a much better view that is scaled for visibility. Now we explore the images with confidence."
   ],
   "metadata": {
    "collapsed": false
   }
  },
  {
   "cell_type": "markdown",
   "source": [
    "We'll start by looking at descriptive stats of our DF"
   ],
   "metadata": {
    "collapsed": false
   }
  },
  {
   "cell_type": "code",
   "execution_count": 15,
   "outputs": [
    {
     "data": {
      "text/plain": "                                                 path  shape     type\ncount                                            2773   2773     2773\nunique                                           2773      4       14\ntop     datasets/train/square/parking/00080_00000.png  round  noentry\nfreq                                                1   1760      375",
      "text/html": "<div>\n<style scoped>\n    .dataframe tbody tr th:only-of-type {\n        vertical-align: middle;\n    }\n\n    .dataframe tbody tr th {\n        vertical-align: top;\n    }\n\n    .dataframe thead th {\n        text-align: right;\n    }\n</style>\n<table border=\"1\" class=\"dataframe\">\n  <thead>\n    <tr style=\"text-align: right;\">\n      <th></th>\n      <th>path</th>\n      <th>shape</th>\n      <th>type</th>\n    </tr>\n  </thead>\n  <tbody>\n    <tr>\n      <td>count</td>\n      <td>2773</td>\n      <td>2773</td>\n      <td>2773</td>\n    </tr>\n    <tr>\n      <td>unique</td>\n      <td>2773</td>\n      <td>4</td>\n      <td>14</td>\n    </tr>\n    <tr>\n      <td>top</td>\n      <td>datasets/train/square/parking/00080_00000.png</td>\n      <td>round</td>\n      <td>noentry</td>\n    </tr>\n    <tr>\n      <td>freq</td>\n      <td>1</td>\n      <td>1760</td>\n      <td>375</td>\n    </tr>\n  </tbody>\n</table>\n</div>"
     },
     "execution_count": 15,
     "metadata": {},
     "output_type": "execute_result"
    }
   ],
   "source": [
    "trafficSignsDf.describe()"
   ],
   "metadata": {
    "collapsed": false,
    "pycharm": {
     "name": "#%%\n"
    }
   }
  },
  {
   "cell_type": "markdown",
   "source": [
    "The value count of shapes:"
   ],
   "metadata": {
    "collapsed": false
   }
  },
  {
   "cell_type": "code",
   "source": [
    "trafficSignsDf['shape'].value_counts()"
   ],
   "metadata": {
    "collapsed": false,
    "pycharm": {
     "name": "#%%\n"
    }
   },
   "execution_count": 17,
   "outputs": [
    {
     "data": {
      "text/plain": "round      1760\nsquare      688\ndiamond     282\nhex          43\nName: shape, dtype: int64"
     },
     "execution_count": 17,
     "metadata": {},
     "output_type": "execute_result"
    }
   ]
  },
  {
   "cell_type": "markdown",
   "source": [
    "and a plot of the value counts:"
   ],
   "metadata": {
    "collapsed": false
   }
  },
  {
   "cell_type": "code",
   "execution_count": 18,
   "outputs": [
    {
     "data": {
      "text/plain": "<matplotlib.axes._subplots.AxesSubplot at 0x7fafb6b72b10>"
     },
     "execution_count": 18,
     "metadata": {},
     "output_type": "execute_result"
    },
    {
     "data": {
      "text/plain": "<Figure size 432x288 with 1 Axes>",
      "image/png": "[encoded data removed]"
     },
     "metadata": {
      "needs_background": "light"
     },
     "output_type": "display_data"
    }
   ],
   "source": [
    "trafficSignsDf['shape'].value_counts().plot(kind='bar')"
   ],
   "metadata": {
    "collapsed": false,
    "pycharm": {
     "name": "#%%\n"
    }
   }
  },
  {
   "cell_type": "markdown",
   "source": [
    "Observations:\n",
    "* Most frequent shape in the dataset is the \"round\" shape with 1760 instances\n",
    "* Hex is the lest frequent shape in the dataset with 43 instances\n",
    "\n",
    "The above observations indicate a class imbalance. Because of this, accuracy may not be a good performance metric for the model that predicts shape."
   ],
   "metadata": {
    "collapsed": false
   }
  },
  {
   "cell_type": "markdown",
   "source": [
    "And we repeat the same for sign-type (type in the DF)"
   ],
   "metadata": {
    "collapsed": false
   }
  },
  {
   "cell_type": "code",
   "execution_count": 19,
   "outputs": [
    {
     "data": {
      "text/plain": "noentry             375\nspeed               316\nbicycle             285\nrightofway          282\nparking             276\nnoparking           242\ncontinue            199\ntrafficdirective    195\nlimitedtraffic      125\ntraveldirection     124\nlaneend             118\nroundabout           98\ncrossing             95\nstop                 43\nName: type, dtype: int64"
     },
     "execution_count": 19,
     "metadata": {},
     "output_type": "execute_result"
    }
   ],
   "source": [
    "trafficSignsDf['type'].value_counts()"
   ],
   "metadata": {
    "collapsed": false,
    "pycharm": {
     "name": "#%%\n"
    }
   }
  },
  {
   "cell_type": "code",
   "execution_count": 20,
   "outputs": [
    {
     "data": {
      "text/plain": "<matplotlib.axes._subplots.AxesSubplot at 0x7fafb6dcd050>"
     },
     "execution_count": 20,
     "metadata": {},
     "output_type": "execute_result"
    },
    {
     "data": {
      "text/plain": "<Figure size 432x288 with 1 Axes>",
      "image/png": "[encoded data removed]"
     },
     "metadata": {
      "needs_background": "light"
     },
     "output_type": "display_data"
    }
   ],
   "source": [
    "trafficSignsDf['type'].value_counts().plot(kind='bar')"
   ],
   "metadata": {
    "collapsed": false,
    "pycharm": {
     "name": "#%%\n"
    }
   }
  },
  {
   "cell_type": "markdown",
   "source": [
    "Observations:\n",
    "* 'noentry' is the most frequent value in the type column with 375 instances\n",
    "* 'stop' is the least frequent value with 43 instances\n",
    "\n",
    "Accuracy may not be the best performance metric due to the imbalanced classes. We may want to choose F2 or Average Precision as our performance metrics. A final decision can be made after some additional exploration"
   ],
   "metadata": {
    "collapsed": false
   }
  },
  {
   "cell_type": "code",
   "execution_count": 21,
   "outputs": [],
   "source": [
    "diamondDf = trafficSignsDf.loc[trafficSignsDf['shape'] == 'diamond']\n",
    "hexDf = trafficSignsDf.loc[trafficSignsDf['shape'] == 'hex']\n",
    "roundDf = trafficSignsDf.loc[trafficSignsDf['shape'] == 'round']\n",
    "squareDf = trafficSignsDf.loc[trafficSignsDf['shape'] == 'square']\n",
    "triangleDf = trafficSignsDf.loc[trafficSignsDf['shape'] == 'hex']"
   ],
   "metadata": {
    "collapsed": false,
    "pycharm": {
     "name": "#%%\n"
    }
   }
  },
  {
   "cell_type": "code",
   "execution_count": 22,
   "outputs": [
    {
     "data": {
      "text/plain": "                                                path    shape        type\n0  datasets/train/diamond/rightofway/00039_00001.png  diamond  rightofway\n1  datasets/train/diamond/rightofway/01803_00002.png  diamond  rightofway\n2  datasets/train/diamond/rightofway/01702_00000.png  diamond  rightofway\n3  datasets/train/diamond/rightofway/00111_00001.png  diamond  rightofway\n4  datasets/train/diamond/rightofway/01231_00003.png  diamond  rightofway",
      "text/html": "<div>\n<style scoped>\n    .dataframe tbody tr th:only-of-type {\n        vertical-align: middle;\n    }\n\n    .dataframe tbody tr th {\n        vertical-align: top;\n    }\n\n    .dataframe thead th {\n        text-align: right;\n    }\n</style>\n<table border=\"1\" class=\"dataframe\">\n  <thead>\n    <tr style=\"text-align: right;\">\n      <th></th>\n      <th>path</th>\n      <th>shape</th>\n      <th>type</th>\n    </tr>\n  </thead>\n  <tbody>\n    <tr>\n      <td>0</td>\n      <td>datasets/train/diamond/rightofway/00039_00001.png</td>\n      <td>diamond</td>\n      <td>rightofway</td>\n    </tr>\n    <tr>\n      <td>1</td>\n      <td>datasets/train/diamond/rightofway/01803_00002.png</td>\n      <td>diamond</td>\n      <td>rightofway</td>\n    </tr>\n    <tr>\n      <td>2</td>\n      <td>datasets/train/diamond/rightofway/01702_00000.png</td>\n      <td>diamond</td>\n      <td>rightofway</td>\n    </tr>\n    <tr>\n      <td>3</td>\n      <td>datasets/train/diamond/rightofway/00111_00001.png</td>\n      <td>diamond</td>\n      <td>rightofway</td>\n    </tr>\n    <tr>\n      <td>4</td>\n      <td>datasets/train/diamond/rightofway/01231_00003.png</td>\n      <td>diamond</td>\n      <td>rightofway</td>\n    </tr>\n  </tbody>\n</table>\n</div>"
     },
     "execution_count": 22,
     "metadata": {},
     "output_type": "execute_result"
    }
   ],
   "source": [
    "diamondDf.head()"
   ],
   "metadata": {
    "collapsed": false,
    "pycharm": {
     "name": "#%%\n"
    }
   }
  },
  {
   "cell_type": "code",
   "execution_count": 23,
   "outputs": [
    {
     "data": {
      "text/plain": "<Figure size 432x288 with 1 Axes>",
      "image/png": "[encoded data removed]"
     },
     "metadata": {
      "needs_background": "light"
     },
     "output_type": "display_data"
    }
   ],
   "source": [
    "for index, row in diamondDf.head().iterrows():\n",
    "    mpimg.imread(row['path'])\n",
    "    imgplot = plt.imshow(img, cmap=\"gray\")\n",
    "plt.show()"
   ],
   "metadata": {
    "collapsed": false,
    "pycharm": {
     "name": "#%%\n"
    }
   }
  },
  {
   "cell_type": "code",
   "execution_count": null,
   "outputs": [],
   "source": [],
   "metadata": {
    "collapsed": false,
    "pycharm": {
     "name": "#%%\n"
    }
   }
  }
 ],
 "metadata": {
  "kernelspec": {
   "display_name": "Python 3",
   "language": "python",
   "name": "python3"
  },
  "language_info": {
   "codemirror_mode": {
    "name": "ipython",
    "version": 2
   },
   "file_extension": ".py",
   "mimetype": "text/x-python",
   "name": "python",
   "nbconvert_exporter": "python",
   "pygments_lexer": "ipython2",
   "version": "2.7.6"
  }
 },
 "nbformat": 4,
 "nbformat_minor": 0
}